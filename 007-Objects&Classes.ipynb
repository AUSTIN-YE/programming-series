{
 "cells": [
  {
   "cell_type": "markdown",
   "metadata": {},
   "source": [
    "# Programming for Data Science Series (Lab Session 7)\n",
    "## Objects & Classes\n",
    "### Class\n",
    "* Blueprint (design) for creating an object\n",
    "* We can build any number of house we wish to if we have a design\n",
    "* Therefore, we can created any number of object from a class\n",
    "* Use class keyword and give it a name, then put colon"
   ]
  },
  {
   "cell_type": "code",
   "execution_count": 1,
   "metadata": {},
   "outputs": [
    {
     "name": "stdout",
     "output_type": "stream",
     "text": [
      "Toyota car is driving\n"
     ]
    }
   ],
   "source": [
    "class Car:\n",
    "    brand = 'Toyota'\n",
    "    def drive(self):\n",
    "        print(self.brand, 'car is driving')\n",
    "\n",
    "my_new_car = Car()\n",
    "my_new_car.drive()"
   ]
  },
  {
   "cell_type": "code",
   "execution_count": 16,
   "metadata": {},
   "outputs": [
    {
     "name": "stdout",
     "output_type": "stream",
     "text": [
      "Toyota\n"
     ]
    }
   ],
   "source": [
    "print(my_new_car.brand)"
   ]
  },
  {
   "cell_type": "code",
   "execution_count": 38,
   "metadata": {},
   "outputs": [
    {
     "name": "stdout",
     "output_type": "stream",
     "text": [
      "Toyota car is driving\n"
     ]
    }
   ],
   "source": [
    "class Car:\n",
    "    \n",
    "    def drive(self):\n",
    "        print(self.brand, 'car is driving')\n",
    "    \n",
    "    def get_speed(self):\n",
    "        print(self.speed, 'is my top-speed')\n",
    "    \n",
    "    def get_gear(self):\n",
    "        print(self.gear, 'gear')\n",
    "\n",
    "toyota = Car()\n",
    "toyota.brand = 'Toyota'\n",
    "toyota.drive()"
   ]
  },
  {
   "cell_type": "code",
   "execution_count": 39,
   "metadata": {},
   "outputs": [
    {
     "name": "stdout",
     "output_type": "stream",
     "text": [
      "150 is my top-speed\n",
      "Auto gear\n"
     ]
    }
   ],
   "source": [
    "toyota.speed = 150\n",
    "toyota.gear = 'Auto'\n",
    "toyota.get_speed()\n",
    "toyota.get_gear()"
   ]
  },
  {
   "cell_type": "code",
   "execution_count": 40,
   "metadata": {},
   "outputs": [
    {
     "name": "stdout",
     "output_type": "stream",
     "text": [
      "BMW car is driving\n",
      "200 is my top-speed\n",
      "Manual gear\n"
     ]
    }
   ],
   "source": [
    "bmw = Car()\n",
    "bmw.brand = 'BMW'\n",
    "bmw.speed = 200\n",
    "bmw.gear = 'Manual'\n",
    "bmw.drive()\n",
    "bmw.get_speed()\n",
    "bmw.get_gear()"
   ]
  },
  {
   "cell_type": "code",
   "execution_count": 41,
   "metadata": {},
   "outputs": [
    {
     "name": "stdout",
     "output_type": "stream",
     "text": [
      "Honda car is driving\n",
      "180 is my top-speed\n",
      "Manual gear\n"
     ]
    }
   ],
   "source": [
    "honda = Car()\n",
    "honda.brand = 'Honda'\n",
    "honda.speed = 180\n",
    "honda.gear = 'Manual'\n",
    "honda.drive()\n",
    "honda.get_speed()\n",
    "honda.get_gear()"
   ]
  },
  {
   "cell_type": "code",
   "execution_count": 42,
   "metadata": {},
   "outputs": [
    {
     "name": "stdout",
     "output_type": "stream",
     "text": [
      "Mazda car is driving\n",
      "175 is my top-speed\n",
      "Auto gear\n"
     ]
    }
   ],
   "source": [
    "mazda = Car()\n",
    "mazda.brand = 'Mazda'\n",
    "mazda.speed = 175\n",
    "mazda.gear = 'Auto'\n",
    "mazda.drive()\n",
    "mazda.get_speed()\n",
    "mazda.get_gear()"
   ]
  },
  {
   "cell_type": "markdown",
   "metadata": {},
   "source": [
    "### Constructor\n",
    "* Used to perform initialization of the data\n",
    "* __init__ is a method to create constructor of a class"
   ]
  },
  {
   "cell_type": "code",
   "execution_count": 43,
   "metadata": {},
   "outputs": [
    {
     "name": "stdout",
     "output_type": "stream",
     "text": [
      "I made a new car Nissan White 140 Auto\n"
     ]
    }
   ],
   "source": [
    "class SuperCar:\n",
    "    def __init__(self, brand, color, speed, gear):\n",
    "        self.brand = brand\n",
    "        self.color = color\n",
    "        self.speed = speed\n",
    "        self.gear  = gear\n",
    "\n",
    "    def make_car(self):\n",
    "        print ('I made a new car', self.brand, self.color, self.speed, self.gear)\n",
    "    \n",
    "    def get_speed(self):\n",
    "        print(self.speed, 'is my top-speed')\n",
    "    \n",
    "    def get_gear(self):\n",
    "        print(self.gear, 'gear')\n",
    "    \n",
    "nissan = SuperCar('Nissan', 'White', 140, 'Auto')\n",
    "nissan.make_car()"
   ]
  },
  {
   "cell_type": "code",
   "execution_count": 44,
   "metadata": {},
   "outputs": [
    {
     "name": "stdout",
     "output_type": "stream",
     "text": [
      "I made a new car Audi Black 220 Manual\n"
     ]
    }
   ],
   "source": [
    "audi = SuperCar('Audi', 'Black', 220, 'Manual')\n",
    "audi.make_car()"
   ]
  },
  {
   "cell_type": "code",
   "execution_count": 35,
   "metadata": {},
   "outputs": [
    {
     "name": "stdout",
     "output_type": "stream",
     "text": [
      "200 is my top-speed\n"
     ]
    }
   ],
   "source": [
    "nissan.get_speed()"
   ]
  },
  {
   "cell_type": "code",
   "execution_count": 46,
   "metadata": {},
   "outputs": [
    {
     "name": "stdout",
     "output_type": "stream",
     "text": [
      "220 is my top-speed\n"
     ]
    }
   ],
   "source": [
    "audi.get_speed()"
   ]
  },
  {
   "cell_type": "code",
   "execution_count": null,
   "metadata": {},
   "outputs": [],
   "source": []
  }
 ],
 "metadata": {
  "kernelspec": {
   "display_name": "Python 3",
   "language": "python",
   "name": "python3"
  },
  "language_info": {
   "codemirror_mode": {
    "name": "ipython",
    "version": 3
   },
   "file_extension": ".py",
   "mimetype": "text/x-python",
   "name": "python",
   "nbconvert_exporter": "python",
   "pygments_lexer": "ipython3",
   "version": "3.6.4"
  }
 },
 "nbformat": 4,
 "nbformat_minor": 2
}
