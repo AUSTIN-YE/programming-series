{
 "cells": [
  {
   "cell_type": "markdown",
   "metadata": {},
   "source": [
    "# Programming for Data Science Series (Lab Session 8)\n",
    "## Directories & Files\n",
    "### Access Mode (Read/Write/Append)\n",
    "* r (Read Only)\n",
    " * open file for reading only, raised I/O error if there is no such file found \n",
    " * file pointer is placed at the beginning of the file\n",
    "* r+ (Read and Write)\n",
    " * Open file for reading and writing\n",
    " * raised I/O error if there is no such file found \n",
    " * file pointer is placed at the beginning of the file\n",
    "* w (Write)\n",
    " * open file for writing only, creates new file for writing  if there is no such file found \n",
    " * file pointer is placed at the beginning of the file\n",
    " * existing contents are truncated and over-written\n",
    "* w+ (Write and Read) \n",
    " * open file for reading and writing\n",
    " * creates new file for reading and writing if there is no such file found \n",
    " * file pointer is placed at the beginning of the file\n",
    "* a (Amend)\n",
    " * open file for writing, creates new file if not exist\n",
    " * file pointer is placed at the end of the file\n",
    " * data is written after existing data\n",
    "* a+ (Amend and Write)\n",
    " * open file for reading and writing, creates new file if not exist\n",
    " * file pointer is placed at the end of the file\n",
    " * data is written after existing data"
   ]
  },
  {
   "cell_type": "markdown",
   "metadata": {},
   "source": [
    "### Write File (Fresh copy)"
   ]
  },
  {
   "cell_type": "code",
   "execution_count": 5,
   "metadata": {},
   "outputs": [],
   "source": [
    "file_obj = open(\"myfile.txt\",\"w\") \n",
    "L = [\"Yangon \\n\",\"Mandaly \\n\",\"Pyay \\n\"]  \n",
    "  \n",
    "file_obj.write(\"City \\n\") \n",
    "file_obj.writelines(L) \n",
    "file_obj.close()"
   ]
  },
  {
   "cell_type": "markdown",
   "metadata": {},
   "source": [
    "### Write File (Append)"
   ]
  },
  {
   "cell_type": "code",
   "execution_count": 6,
   "metadata": {},
   "outputs": [],
   "source": [
    "file_obj = open(\"myfile.txt\",\"a\")\n",
    "file_obj.write(\"Bago \\n\")\n",
    "file_obj.write(\"Nay Pyi Daw \\n\")\n",
    "file_obj.close()"
   ]
  },
  {
   "cell_type": "markdown",
   "metadata": {},
   "source": [
    "### Read File"
   ]
  },
  {
   "cell_type": "code",
   "execution_count": 9,
   "metadata": {},
   "outputs": [
    {
     "name": "stdout",
     "output_type": "stream",
     "text": [
      "City \n",
      "Yangon \n",
      "Mandaly \n",
      "Pyay \n",
      "Bago \n",
      "Nay Pyi Daw \n",
      "\n"
     ]
    }
   ],
   "source": [
    "file_obj = open(\"myfile.txt\",\"r\")\n",
    "print(file_obj.read())\n",
    "file_obj.close()"
   ]
  },
  {
   "cell_type": "code",
   "execution_count": 11,
   "metadata": {},
   "outputs": [
    {
     "name": "stdout",
     "output_type": "stream",
     "text": [
      "City \n",
      "\n"
     ]
    }
   ],
   "source": [
    "file_obj = open(\"myfile.txt\",\"r\")\n",
    "print(file_obj.readline())\n",
    "file_obj.close()"
   ]
  },
  {
   "cell_type": "code",
   "execution_count": 12,
   "metadata": {},
   "outputs": [
    {
     "name": "stdout",
     "output_type": "stream",
     "text": [
      "['City \\n', 'Yangon \\n', 'Mandaly \\n', 'Pyay \\n', 'Bago \\n', 'Nay Pyi Daw \\n']\n"
     ]
    }
   ],
   "source": [
    "file_obj = open(\"myfile.txt\",\"r\")\n",
    "print(file_obj.readlines())\n",
    "file_obj.close()"
   ]
  },
  {
   "cell_type": "code",
   "execution_count": 17,
   "metadata": {},
   "outputs": [
    {
     "name": "stdout",
     "output_type": "stream",
     "text": [
      "Ci\n"
     ]
    }
   ],
   "source": [
    "file_obj = open(\"myfile.txt\",\"r\")\n",
    "print(file_obj.read(2))\n",
    "file_obj.close()"
   ]
  },
  {
   "cell_type": "code",
   "execution_count": 19,
   "metadata": {},
   "outputs": [
    {
     "name": "stdout",
     "output_type": "stream",
     "text": [
      "City \n",
      "\n"
     ]
    }
   ],
   "source": [
    "file_obj = open(\"myfile.txt\",\"r\")\n",
    "print(file_obj.readline(10))\n",
    "file_obj.close()"
   ]
  },
  {
   "cell_type": "markdown",
   "metadata": {},
   "source": [
    "> <b>Note: it does not reads more than one line, even if n exceeds the length of the line</b>"
   ]
  },
  {
   "cell_type": "code",
   "execution_count": 20,
   "metadata": {},
   "outputs": [
    {
     "ename": "UnsupportedOperation",
     "evalue": "not readable",
     "output_type": "error",
     "traceback": [
      "\u001b[1;31m---------------------------------------------------------------------------\u001b[0m",
      "\u001b[1;31mUnsupportedOperation\u001b[0m                      Traceback (most recent call last)",
      "\u001b[1;32m<ipython-input-20-d286f496cf5a>\u001b[0m in \u001b[0;36m<module>\u001b[1;34m()\u001b[0m\n\u001b[0;32m      6\u001b[0m \u001b[0mfile_obj_two\u001b[0m\u001b[1;33m.\u001b[0m\u001b[0mwritelines\u001b[0m\u001b[1;33m(\u001b[0m\u001b[0mL\u001b[0m\u001b[1;33m)\u001b[0m\u001b[1;33m\u001b[0m\u001b[0m\n\u001b[0;32m      7\u001b[0m \u001b[1;33m\u001b[0m\u001b[0m\n\u001b[1;32m----> 8\u001b[1;33m \u001b[0mprint\u001b[0m\u001b[1;33m(\u001b[0m\u001b[0mfile_obj_two\u001b[0m\u001b[1;33m.\u001b[0m\u001b[0mread\u001b[0m\u001b[1;33m(\u001b[0m\u001b[1;33m)\u001b[0m\u001b[1;33m)\u001b[0m\u001b[1;33m\u001b[0m\u001b[0m\n\u001b[0m\u001b[0;32m      9\u001b[0m \u001b[1;33m\u001b[0m\u001b[0m\n\u001b[0;32m     10\u001b[0m \u001b[0mfile_obj_two\u001b[0m\u001b[1;33m.\u001b[0m\u001b[0mclose\u001b[0m\u001b[1;33m(\u001b[0m\u001b[1;33m)\u001b[0m\u001b[1;33m\u001b[0m\u001b[0m\n",
      "\u001b[1;31mUnsupportedOperation\u001b[0m: not readable"
     ]
    }
   ],
   "source": [
    "file_obj_two = open(\"myfiletwo.txt\",\"w\") \n",
    "L = [\"Yangon \\n\",\"Mandaly \\n\",\"Pyay \\n\"]  \n",
    "  \n",
    "file_obj_two.write(\"City \\n\") \n",
    "file_obj_two.writelines(L) \n",
    "\n",
    "print(file_obj_two.read())\n",
    "\n",
    "file_obj_two.close()"
   ]
  },
  {
   "cell_type": "code",
   "execution_count": 37,
   "metadata": {
    "scrolled": true
   },
   "outputs": [
    {
     "name": "stdout",
     "output_type": "stream",
     "text": [
      "\n"
     ]
    }
   ],
   "source": [
    "file_obj_two = open(\"myfiletwo.txt\",\"w+\") \n",
    "\n",
    "#print(file_obj_two.read())\n",
    "\n",
    "L = [\"Yangon \\n\",\"Mandaly \\n\",\"Pyay \\n\"]  \n",
    "  \n",
    "file_obj_two.write(\"City \\n\") \n",
    "file_obj_two.writelines(L) \n",
    "\n",
    "print(file_obj_two.read())\n",
    "\n",
    "file_obj_two.close()"
   ]
  },
  {
   "cell_type": "markdown",
   "metadata": {},
   "source": [
    "> Note: The reason we are not getting any data by reading is because initial data has been truncated using w+ and there is no data to read. If we wanted to read existing content, we need to use seek() method to move to nth byte"
   ]
  },
  {
   "cell_type": "code",
   "execution_count": 57,
   "metadata": {},
   "outputs": [
    {
     "name": "stdout",
     "output_type": "stream",
     "text": [
      "City \n",
      "Yangon \n",
      "Mandaly \n",
      "Pyay \n",
      "\n"
     ]
    }
   ],
   "source": [
    "file_obj_two = open(\"myfiletwo.txt\",\"w+\") \n",
    "L = [\"Yangon \\n\",\"Mandaly \\n\",\"Pyay \\n\"]  \n",
    "  \n",
    "file_obj_two.write(\"City \\n\") \n",
    "file_obj_two.writelines(L) \n",
    "file_obj_two.seek(0)\n",
    "print(file_obj_two.read())\n",
    "\n",
    "file_obj_two.close()"
   ]
  },
  {
   "cell_type": "code",
   "execution_count": 58,
   "metadata": {},
   "outputs": [
    {
     "name": "stdout",
     "output_type": "stream",
     "text": [
      "City \n",
      "Yangon \n",
      "Mandaly \n",
      "Pyay \n",
      "\n"
     ]
    }
   ],
   "source": [
    "file_obj_two = open(\"myfiletwo.txt\",\"r+\") \n",
    "\n",
    "print(file_obj_two.read())\n",
    "\n",
    "L = [\"Yangon_1 \\n\",\"Mandaly_1 \\n\",\"Pyay_1 \\n\"]  \n",
    "  \n",
    "file_obj_two.write(\"City_1 \\n\") \n",
    "file_obj_two.writelines(L) \n",
    "\n",
    "file_obj_two.close()"
   ]
  },
  {
   "cell_type": "code",
   "execution_count": 59,
   "metadata": {},
   "outputs": [
    {
     "name": "stdout",
     "output_type": "stream",
     "text": [
      "City \n",
      "Yangon \n",
      "Mandaly \n",
      "Pyay \n",
      "City_1 \n",
      "Yangon_1 \n",
      "Mandaly_1 \n",
      "Pyay_1 \n",
      "\n"
     ]
    }
   ],
   "source": [
    "fo = open(\"myfiletwo.txt\",\"r\") \n",
    "print(fo.read())\n",
    "fo.close()"
   ]
  },
  {
   "cell_type": "markdown",
   "metadata": {},
   "source": [
    "### Getting Attributes from File Object"
   ]
  },
  {
   "cell_type": "code",
   "execution_count": 60,
   "metadata": {},
   "outputs": [
    {
     "name": "stdout",
     "output_type": "stream",
     "text": [
      "myfiletwo.txt\n",
      "r\n",
      "False\n",
      "True\n"
     ]
    }
   ],
   "source": [
    "fo = open(\"myfiletwo.txt\",\"r\") \n",
    "print(fo.name)\n",
    "print(fo.mode)\n",
    "print(fo.closed)\n",
    "fo.close()\n",
    "print(fo.closed)"
   ]
  },
  {
   "cell_type": "markdown",
   "metadata": {},
   "source": [
    "### Renaming and removing using os module"
   ]
  },
  {
   "cell_type": "code",
   "execution_count": 61,
   "metadata": {},
   "outputs": [],
   "source": [
    "import os\n",
    "os.rename('myfiletwo.txt', 'second_file.txt')"
   ]
  },
  {
   "cell_type": "code",
   "execution_count": 62,
   "metadata": {},
   "outputs": [],
   "source": [
    "os.remove('second_file.txt')"
   ]
  },
  {
   "cell_type": "markdown",
   "metadata": {},
   "source": [
    "### Directories"
   ]
  },
  {
   "cell_type": "code",
   "execution_count": 63,
   "metadata": {},
   "outputs": [],
   "source": [
    "os.mkdir('MyNewDir')"
   ]
  },
  {
   "cell_type": "code",
   "execution_count": 65,
   "metadata": {},
   "outputs": [],
   "source": [
    "os.chdir('MyNewDir')"
   ]
  },
  {
   "cell_type": "code",
   "execution_count": null,
   "metadata": {},
   "outputs": [],
   "source": [
    "os.getcwd()"
   ]
  },
  {
   "cell_type": "code",
   "execution_count": 71,
   "metadata": {},
   "outputs": [],
   "source": [
    "os.chdir('C:\\\\Users\\\\admin\\\\Documents\\\\programming-series\\\\')"
   ]
  },
  {
   "cell_type": "code",
   "execution_count": null,
   "metadata": {},
   "outputs": [],
   "source": [
    "os.getcwd()"
   ]
  },
  {
   "cell_type": "code",
   "execution_count": 73,
   "metadata": {},
   "outputs": [],
   "source": [
    "os.rmdir('MyNewDir')"
   ]
  }
 ],
 "metadata": {
  "kernelspec": {
   "display_name": "Python 3",
   "language": "python",
   "name": "python3"
  },
  "language_info": {
   "codemirror_mode": {
    "name": "ipython",
    "version": 3
   },
   "file_extension": ".py",
   "mimetype": "text/x-python",
   "name": "python",
   "nbconvert_exporter": "python",
   "pygments_lexer": "ipython3",
   "version": "3.6.4"
  }
 },
 "nbformat": 4,
 "nbformat_minor": 2
}
