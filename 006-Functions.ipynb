{
 "cells": [
  {
   "cell_type": "markdown",
   "metadata": {},
   "source": [
    "# Programming for Data Science Series (Lab Session 6)\n",
    "## Functions\n",
    "### Defining Function\n",
    "* Must have a name\n",
    "* Use def keyword in Python followed by the name of the function and also with open and close bracket\n",
    "* When we use a function, we say <b>“we call a function”</b>"
   ]
  },
  {
   "cell_type": "code",
   "execution_count": 1,
   "metadata": {},
   "outputs": [
    {
     "name": "stdout",
     "output_type": "stream",
     "text": [
      "Hello\n"
     ]
    }
   ],
   "source": [
    "def say_hello():\n",
    "    print('Hello')\n",
    "say_hello()"
   ]
  },
  {
   "cell_type": "code",
   "execution_count": 3,
   "metadata": {},
   "outputs": [
    {
     "name": "stdout",
     "output_type": "stream",
     "text": [
      "Hello\n",
      "Hello\n",
      "Hello\n"
     ]
    }
   ],
   "source": [
    "say_hello()\n",
    "say_hello()\n",
    "say_hello()"
   ]
  },
  {
   "cell_type": "markdown",
   "metadata": {},
   "source": [
    "### Arguments/Parameters\n",
    "* Parameters are values provided to perform some task within a function\n",
    "* A function can accept no or more than one parameters"
   ]
  },
  {
   "cell_type": "code",
   "execution_count": 4,
   "metadata": {},
   "outputs": [
    {
     "name": "stdout",
     "output_type": "stream",
     "text": [
      "23.437499999999996\n"
     ]
    }
   ],
   "source": [
    "def calculate_bmi(weight, height):\n",
    "    print(weight/(height*height))\n",
    "\n",
    "calculate_bmi(60, 1.6)"
   ]
  },
  {
   "cell_type": "markdown",
   "metadata": {},
   "source": [
    "### Defaulting Arguments/Parameters\n",
    "* Notice that if a function have more than one parameters, then separated each parameters by commas\n",
    "* Can assign default values to each parameters (arguments)\n",
    "* If no arguments were passed into the function, default arguments will be used"
   ]
  },
  {
   "cell_type": "code",
   "execution_count": 7,
   "metadata": {},
   "outputs": [
    {
     "name": "stdout",
     "output_type": "stream",
     "text": [
      "23.437499999999996\n"
     ]
    }
   ],
   "source": [
    "def calculate_bmi(weight, height=1.6):\n",
    "    print(weight/(height*height))\n",
    "\n",
    "calculate_bmi(60)"
   ]
  },
  {
   "cell_type": "markdown",
   "metadata": {},
   "source": [
    "### Return value(s)\n",
    "* Return values are the values return from a function (usually after performing a particular task)\n",
    "* A python function can return more than one values"
   ]
  },
  {
   "cell_type": "code",
   "execution_count": 8,
   "metadata": {},
   "outputs": [
    {
     "name": "stdout",
     "output_type": "stream",
     "text": [
      "23.437499999999996\n"
     ]
    }
   ],
   "source": [
    "def calculate_bmi(weight, height):\n",
    "    bmi = (weight/(height*height))\n",
    "    return bmi\n",
    "\n",
    "print(calculate_bmi(60, 1.6))"
   ]
  },
  {
   "cell_type": "markdown",
   "metadata": {},
   "source": [
    "> <b>Note: Arguments/Parameters can pass using two different methods</b>\n",
    "* By position\n",
    "* By name"
   ]
  },
  {
   "cell_type": "code",
   "execution_count": 9,
   "metadata": {},
   "outputs": [
    {
     "name": "stdout",
     "output_type": "stream",
     "text": [
      "23.437499999999996\n"
     ]
    }
   ],
   "source": [
    "print(calculate_bmi(height=1.6, weight=60))"
   ]
  },
  {
   "cell_type": "code",
   "execution_count": 10,
   "metadata": {},
   "outputs": [
    {
     "name": "stdout",
     "output_type": "stream",
     "text": [
      "58\n",
      "60\n",
      "55\n"
     ]
    }
   ],
   "source": [
    "students = {58: 1.5, 60:1.6, 55:1.7}\n",
    "for s in students:\n",
    "    print(s)"
   ]
  },
  {
   "cell_type": "code",
   "execution_count": 12,
   "metadata": {},
   "outputs": [
    {
     "name": "stdout",
     "output_type": "stream",
     "text": [
      "1.5\n",
      "1.6\n",
      "1.7\n"
     ]
    }
   ],
   "source": [
    "for s in students:\n",
    "    print(students[s])"
   ]
  },
  {
   "cell_type": "code",
   "execution_count": 16,
   "metadata": {},
   "outputs": [
    {
     "name": "stdout",
     "output_type": "stream",
     "text": [
      "25.77777777777778\n",
      "23.437499999999996\n",
      "19.031141868512112\n"
     ]
    }
   ],
   "source": [
    "for s in students:\n",
    "    print(calculate_bmi(s, students[s]))"
   ]
  },
  {
   "cell_type": "code",
   "execution_count": 17,
   "metadata": {},
   "outputs": [
    {
     "name": "stdout",
     "output_type": "stream",
     "text": [
      "[25.78, 23.44, 19.03]\n"
     ]
    }
   ],
   "source": [
    "bmi = []\n",
    "for s in students:\n",
    "    bmi.append(round(calculate_bmi(s, students[s]), 2))\n",
    "print(bmi)"
   ]
  },
  {
   "cell_type": "markdown",
   "metadata": {},
   "source": [
    "### Return more than one value\n",
    "* If more than values to be returned, used commas to separate each value\n",
    "* Also can assign multiple return values into multiple variables"
   ]
  },
  {
   "cell_type": "code",
   "execution_count": 18,
   "metadata": {},
   "outputs": [
    {
     "name": "stdout",
     "output_type": "stream",
     "text": [
      "65 1.62\n"
     ]
    }
   ],
   "source": [
    "def change_values(weight, height):\n",
    "    weight = weight+5\n",
    "    height = height+0.02\n",
    "    return weight, height\n",
    "new_weight, new_height = change_values(60, 1.6)\n",
    "print(new_weight, new_height)"
   ]
  },
  {
   "cell_type": "markdown",
   "metadata": {},
   "source": [
    "### Variable Scope\n",
    "* Scope means which part of the program can access variables\n",
    "* If a variable is declared inside a function, then it can be only used inside that function\n",
    "* If a variable is declared outside a function, then it can be used from both inside and outside of a function"
   ]
  },
  {
   "cell_type": "code",
   "execution_count": 19,
   "metadata": {},
   "outputs": [
    {
     "name": "stdout",
     "output_type": "stream",
     "text": [
      "10\n"
     ]
    },
    {
     "ename": "NameError",
     "evalue": "name 'x' is not defined",
     "output_type": "error",
     "traceback": [
      "\u001b[1;31m---------------------------------------------------------------------------\u001b[0m",
      "\u001b[1;31mNameError\u001b[0m                                 Traceback (most recent call last)",
      "\u001b[1;32m<ipython-input-19-0114c6c1e2b7>\u001b[0m in \u001b[0;36m<module>\u001b[1;34m()\u001b[0m\n\u001b[0;32m      3\u001b[0m     \u001b[1;32mreturn\u001b[0m \u001b[0mx\u001b[0m\u001b[1;33m\u001b[0m\u001b[0m\n\u001b[0;32m      4\u001b[0m \u001b[0mprint\u001b[0m\u001b[1;33m(\u001b[0m\u001b[0mvariable_scope\u001b[0m\u001b[1;33m(\u001b[0m\u001b[1;33m)\u001b[0m\u001b[1;33m)\u001b[0m\u001b[1;33m\u001b[0m\u001b[0m\n\u001b[1;32m----> 5\u001b[1;33m \u001b[0mprint\u001b[0m\u001b[1;33m(\u001b[0m\u001b[0mx\u001b[0m\u001b[1;33m)\u001b[0m\u001b[1;33m\u001b[0m\u001b[0m\n\u001b[0m",
      "\u001b[1;31mNameError\u001b[0m: name 'x' is not defined"
     ]
    }
   ],
   "source": [
    "def variable_scope():\n",
    "    x=10\n",
    "    return x\n",
    "print(variable_scope())\n",
    "print(x)"
   ]
  },
  {
   "cell_type": "code",
   "execution_count": 26,
   "metadata": {},
   "outputs": [
    {
     "name": "stdout",
     "output_type": "stream",
     "text": [
      "5\n",
      "5\n"
     ]
    }
   ],
   "source": [
    "x=5\n",
    "def variable_scope():\n",
    "    return x\n",
    "print(variable_scope()) #x is accessible inside the function even without passing it\n",
    "print(x)"
   ]
  },
  {
   "cell_type": "markdown",
   "metadata": {},
   "source": [
    "> <b>Note that variable declare outside has its values, unless we assigned new value to it!</b>"
   ]
  },
  {
   "cell_type": "code",
   "execution_count": 24,
   "metadata": {},
   "outputs": [
    {
     "name": "stdout",
     "output_type": "stream",
     "text": [
      "10\n",
      "5\n"
     ]
    }
   ],
   "source": [
    "x=5\n",
    "def variable_scope(x):\n",
    "    x = x + 5\n",
    "    return x\n",
    "print(variable_scope(x))\n",
    "print(x)"
   ]
  },
  {
   "cell_type": "code",
   "execution_count": null,
   "metadata": {},
   "outputs": [],
   "source": []
  }
 ],
 "metadata": {
  "kernelspec": {
   "display_name": "Python 3",
   "language": "python",
   "name": "python3"
  },
  "language_info": {
   "codemirror_mode": {
    "name": "ipython",
    "version": 3
   },
   "file_extension": ".py",
   "mimetype": "text/x-python",
   "name": "python",
   "nbconvert_exporter": "python",
   "pygments_lexer": "ipython3",
   "version": "3.6.4"
  }
 },
 "nbformat": 4,
 "nbformat_minor": 2
}
