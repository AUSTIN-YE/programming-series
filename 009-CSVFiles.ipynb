{
 "cells": [
  {
   "cell_type": "markdown",
   "metadata": {},
   "source": [
    "# Programming for Data Science Series (Lab Session 8)\n",
    "## Working with CSV files\n",
    "### Reading CSV file\n",
    "* Step 1 - Import Python built-in csv module\n",
    "* Step 2 - Use Python open() method to open file, this will also return us the file object\n",
    "* Step 3 - File content can be read using reader() method by passing file object in Step 2 and this will return us the reader object\n",
    "* Step 4 - Since reader object is iterable, we can use next() method to read the first row (usually heading) and move iterator to next row\n",
    "* Step 5 - Use iteration such as for loop(s) to read the reader object"
   ]
  },
  {
   "cell_type": "code",
   "execution_count": 1,
   "metadata": {},
   "outputs": [
    {
     "name": "stdout",
     "output_type": "stream",
     "text": [
      "<_csv.reader object at 0x000000000575DEE8>\n",
      "['Name', 'Department', 'Salary']\n",
      "[['Soe Soe', 'Engineering', '250000'], ['Ko Ko', 'IT', '300000'], ['Maung Maung', 'Finance', '200000'], ['Hla Hla', 'HR', '150000'], ['Kyaw Kyaw', 'Finance', '205000'], ['San San', 'HR', '155000']]\n"
     ]
    }
   ],
   "source": [
    "import csv\n",
    "rows = []\n",
    "with open('xyz_ltd.csv') as csv_file:\n",
    "    csv_reader = csv.reader(csv_file) \n",
    "    fields = next(csv_reader)\n",
    "    for row in csv_reader: \n",
    "        rows.append(row)\n",
    "print(csv_reader)\n",
    "print(fields)\n",
    "print(rows)"
   ]
  },
  {
   "cell_type": "code",
   "execution_count": 9,
   "metadata": {},
   "outputs": [
    {
     "name": "stdout",
     "output_type": "stream",
     "text": [
      "['Soe Soe', 'Engineering', '250000']\n",
      "['Ko Ko', 'IT', '300000']\n",
      "['Maung Maung', 'Finance', '200000']\n",
      "['Hla Hla', 'HR', '150000']\n",
      "['Kyaw Kyaw', 'Finance', '205000']\n",
      "['San San', 'HR', '155000']\n"
     ]
    }
   ],
   "source": [
    "for r in rows:\n",
    "    print(r)"
   ]
  },
  {
   "cell_type": "code",
   "execution_count": 11,
   "metadata": {},
   "outputs": [
    {
     "name": "stdout",
     "output_type": "stream",
     "text": [
      "Soe Soe Engineering 250000\n",
      "Ko Ko IT 300000\n",
      "Maung Maung Finance 200000\n",
      "Hla Hla HR 150000\n",
      "Kyaw Kyaw Finance 205000\n",
      "San San HR 155000\n"
     ]
    }
   ],
   "source": [
    "for r in rows:\n",
    "    print(r[0], r[1], r[2])"
   ]
  },
  {
   "cell_type": "markdown",
   "metadata": {},
   "source": [
    "### Writing CSV file (Fresh copy)\n",
    "* Step 1 - Import Python built-in csv module\n",
    "* Step 2 - Use Python open() method to open file, this will also return us the file object (mode “w” for fresh content, mode “a” to append data)\n",
    "* Step 3 - File content can be written using writer() method by passing file object in Step 2 and this will return us the writer object\n",
    "* Step 4 - Use writerow() method to write a single line of data or use writerows() method to write multiple lines"
   ]
  },
  {
   "cell_type": "code",
   "execution_count": 12,
   "metadata": {},
   "outputs": [],
   "source": [
    "header = ['Name', 'Department', 'Salary']\n",
    "data = [['Aung Aung', 'Finance', 200000], \n",
    "        ['Ni Ni', 'HR', 150000]]\n",
    "\n",
    "with open('abc_ltd.csv', mode='w', newline='') as csv_file:\n",
    "    csv_writer = csv.writer(csv_file)\n",
    "    csv_writer.writerow(header)\n",
    "    csv_writer.writerow(['Win Win', 'Engineering', 250000])\n",
    "    csv_writer.writerow(['Sein Sein', 'IT', 300000])\n",
    "    csv_writer.writerows(data)"
   ]
  },
  {
   "cell_type": "code",
   "execution_count": 13,
   "metadata": {},
   "outputs": [
    {
     "name": "stdout",
     "output_type": "stream",
     "text": [
      "<_csv.reader object at 0x0000000005A4E528>\n",
      "['Name', 'Department', 'Salary']\n",
      "[['Win Win', 'Engineering', '250000'], ['Sein Sein', 'IT', '300000'], ['Aung Aung', 'Finance', '200000'], ['Ni Ni', 'HR', '150000']]\n"
     ]
    }
   ],
   "source": [
    "rows = []\n",
    "with open('abc_ltd.csv') as csv_file:\n",
    "    csv_reader = csv.reader(csv_file) \n",
    "    fields = next(csv_reader)\n",
    "    for row in csv_reader: \n",
    "        rows.append(row)\n",
    "print(csv_reader)\n",
    "print(fields)\n",
    "print(rows)"
   ]
  },
  {
   "cell_type": "markdown",
   "metadata": {},
   "source": [
    "### Writing CSV file - Existing data (Append)"
   ]
  },
  {
   "cell_type": "code",
   "execution_count": 14,
   "metadata": {},
   "outputs": [],
   "source": [
    "more_data = [['Maung Ba', 'Finance', 205000], \n",
    "        ['Maung Hla', 'HR', 155000]]\n",
    "\n",
    "with open('abc_ltd.csv', mode='a', newline='') as csv_file:\n",
    "    csv_writer = csv.writer(csv_file)\n",
    "    csv_writer.writerows(more_data)"
   ]
  },
  {
   "cell_type": "code",
   "execution_count": 16,
   "metadata": {},
   "outputs": [
    {
     "name": "stdout",
     "output_type": "stream",
     "text": [
      "<_csv.reader object at 0x0000000005A4EE18>\n",
      "['Name', 'Department', 'Salary']\n",
      "[['Win Win', 'Engineering', '250000'], ['Sein Sein', 'IT', '300000'], ['Aung Aung', 'Finance', '200000'], ['Ni Ni', 'HR', '150000'], ['Maung Ba', 'Finance', '205000'], ['Maung Hla', 'HR', '155000']]\n"
     ]
    }
   ],
   "source": [
    "rows = []\n",
    "with open('abc_ltd.csv') as csv_file:\n",
    "    csv_reader = csv.reader(csv_file) \n",
    "    fields = next(csv_reader)\n",
    "    for row in csv_reader: \n",
    "        rows.append(row)\n",
    "print(csv_reader)\n",
    "print(fields)\n",
    "print(rows)"
   ]
  },
  {
   "cell_type": "markdown",
   "metadata": {},
   "source": [
    "### Writing CSV file - Dictionary Data"
   ]
  },
  {
   "cell_type": "code",
   "execution_count": 17,
   "metadata": {},
   "outputs": [],
   "source": [
    "heading = ['Name', 'Department', 'Salary']\n",
    "\n",
    "with open('dict_format.csv', mode='w', newline='') as csv_file:\n",
    "    csv_writer = csv.DictWriter(csv_file, fieldnames=heading)\n",
    "    csv_writer.writeheader()\n",
    "    csv_writer.writerow({'Name': 'Kyi Kyi', 'Department': 'Accounting', 'Salary': 150000})\n",
    "    csv_writer.writerow({'Name': 'Mu Mu', 'Department': 'IT', 'Salary': 250000})"
   ]
  }
 ],
 "metadata": {
  "kernelspec": {
   "display_name": "Python 3",
   "language": "python",
   "name": "python3"
  },
  "language_info": {
   "codemirror_mode": {
    "name": "ipython",
    "version": 3
   },
   "file_extension": ".py",
   "mimetype": "text/x-python",
   "name": "python",
   "nbconvert_exporter": "python",
   "pygments_lexer": "ipython3",
   "version": "3.6.4"
  }
 },
 "nbformat": 4,
 "nbformat_minor": 2
}
