{
 "cells": [
  {
   "cell_type": "markdown",
   "metadata": {},
   "source": [
    "# Programming for Data Science Series (Lab Session 5)\n",
    "## Control Structure\n",
    "### Conditional Statements\n",
    "* IF something is true, THEN do this\n",
    "* IF something is true, THEN do this, if NOT (ELSE) THEN do that\n",
    "* IF something is true, THEN do this. ELSE IF something is true, THEN do this, if NOT (ELSE) THEN do that"
   ]
  },
  {
   "cell_type": "code",
   "execution_count": 4,
   "metadata": {},
   "outputs": [
    {
     "name": "stdout",
     "output_type": "stream",
     "text": [
      "Degree\n"
     ]
    }
   ],
   "source": [
    "student = 'matric pass'\n",
    "if student == 'matric pass':\n",
    "    next_course = 'Degree'\n",
    "print(next_course)"
   ]
  },
  {
   "cell_type": "code",
   "execution_count": 5,
   "metadata": {},
   "outputs": [
    {
     "name": "stdout",
     "output_type": "stream",
     "text": [
      "Other\n"
     ]
    }
   ],
   "source": [
    "if student == 'failed':\n",
    "    next_course = 'Degree'\n",
    "else:\n",
    "    next_course = 'Other'\n",
    "print(next_course)"
   ]
  },
  {
   "cell_type": "code",
   "execution_count": 8,
   "metadata": {},
   "outputs": [
    {
     "name": "stdout",
     "output_type": "stream",
     "text": [
      "Master\n"
     ]
    }
   ],
   "source": [
    "student = 'Degree pass' #trying assigning different value, such as 'Master pass'\n",
    "\n",
    "if student == 'matric pass':\n",
    "    next_course = 'Degree'\n",
    "elif student == 'Degree pass':\n",
    "    next_course = 'Master'\n",
    "elif student == 'Master pass':\n",
    "    next_course == 'Phd'\n",
    "else:\n",
    "    next_course = 'Other'\n",
    "print(next_course)"
   ]
  },
  {
   "cell_type": "markdown",
   "metadata": {},
   "source": [
    "> <b>Note: We can use boolean operator to check more than one conditional statement, if needed</b>"
   ]
  },
  {
   "cell_type": "code",
   "execution_count": 17,
   "metadata": {},
   "outputs": [
    {
     "name": "stdout",
     "output_type": "stream",
     "text": [
      "Credit\n"
     ]
    }
   ],
   "source": [
    "mark = 65\n",
    "rank = 'None'\n",
    "if mark > 59 and mark < 80:\n",
    "    rank = 'Credit'\n",
    "print(rank)"
   ]
  },
  {
   "cell_type": "code",
   "execution_count": 21,
   "metadata": {},
   "outputs": [
    {
     "name": "stdout",
     "output_type": "stream",
     "text": [
      "Distinction\n"
     ]
    }
   ],
   "source": [
    "mark = 100\n",
    "rank = 'NA'\n",
    "if mark < 40:\n",
    "    rank = 'Failed'\n",
    "elif mark > 59 and mark < 80:\n",
    "    rank = 'Credit'\n",
    "elif mark > 79 and mark <= 100:\n",
    "    rank = 'Distinction'\n",
    "else:\n",
    "    rank = 'NA'\n",
    "print(rank)"
   ]
  },
  {
   "cell_type": "markdown",
   "metadata": {},
   "source": [
    "### Loop/Iteration - for loop\n",
    "* Perform repetition on a iterable object\n",
    " * e.g. a list which contains subjects\n",
    "* If we have list of subjects in a variable, we can access each of its elements by using for loop"
   ]
  },
  {
   "cell_type": "code",
   "execution_count": 22,
   "metadata": {},
   "outputs": [
    {
     "name": "stdout",
     "output_type": "stream",
     "text": [
      "English\n",
      "Maths\n",
      "Science\n",
      "Social\n"
     ]
    }
   ],
   "source": [
    "subjects = ['English', 'Maths', 'Science', 'Social']\n",
    "for subject in subjects:\n",
    "    print(subject)"
   ]
  },
  {
   "cell_type": "markdown",
   "metadata": {},
   "source": [
    "> <b>Note: You can use the range() by providing number of iteration, if you knew it</b>"
   ]
  },
  {
   "cell_type": "code",
   "execution_count": 24,
   "metadata": {},
   "outputs": [
    {
     "name": "stdout",
     "output_type": "stream",
     "text": [
      "Data\n",
      "Data\n",
      "Data\n",
      "Data\n",
      "Data\n"
     ]
    }
   ],
   "source": [
    "for i in range(5):\n",
    "    print('Data')"
   ]
  },
  {
   "cell_type": "markdown",
   "metadata": {},
   "source": [
    "> <b>Alternatively: We can count how many items in the list and loop it according to number of items</b>"
   ]
  },
  {
   "cell_type": "code",
   "execution_count": 29,
   "metadata": {},
   "outputs": [
    {
     "name": "stdout",
     "output_type": "stream",
     "text": [
      "English\n",
      "Maths\n",
      "Science\n",
      "Social\n"
     ]
    }
   ],
   "source": [
    "subjects = ['English', 'Maths', 'Science', 'Social']\n",
    "for i in range(len(subjects)):\n",
    "    print(subjects[i]) #we can use index, list are ordered"
   ]
  },
  {
   "cell_type": "code",
   "execution_count": 30,
   "metadata": {},
   "outputs": [
    {
     "name": "stdout",
     "output_type": "stream",
     "text": [
      "['ENGLISH', 'MATHS', 'SCIENCE', 'SOCIAL']\n"
     ]
    }
   ],
   "source": [
    "subjects = ['English', 'Maths', 'Science', 'Social']\n",
    "cap_subjects = []\n",
    "for subject in subjects:\n",
    "    cap_subjects.append(subject.upper())\n",
    "print(cap_subjects)"
   ]
  },
  {
   "cell_type": "markdown",
   "metadata": {},
   "source": [
    "### Loop/Iteration - while loop\n",
    "* Perform repetition based on given condition\n",
    "    * e.g. repeat same process while something is True\n",
    "* Check condition before executing the loop\n",
    "* Check condition again to execute the loop\n",
    "* Beware of universal truth condition, loop must end"
   ]
  },
  {
   "cell_type": "code",
   "execution_count": 33,
   "metadata": {},
   "outputs": [
    {
     "name": "stdout",
     "output_type": "stream",
     "text": [
      "0\n",
      "10\n",
      "20\n",
      "30\n",
      "40\n",
      "50\n",
      "60\n",
      "70\n",
      "Not less than 80\n"
     ]
    }
   ],
   "source": [
    "score = 0\n",
    "while score < 80:\n",
    "    print(score)\n",
    "    score = score + 10\n",
    "    #print(score)\n",
    "print('Not less than 80')"
   ]
  },
  {
   "cell_type": "markdown",
   "metadata": {},
   "source": [
    "### Break and Continue\n",
    "* Useful when we want to exit the loop or skip the current iteration\n",
    "* <b>break</b> is used to terminates the loop\n",
    "* <b>continue</b> is used to skip current (one) iteration of the loop"
   ]
  },
  {
   "cell_type": "markdown",
   "metadata": {},
   "source": [
    "#### Example\n",
    "* Using <b>break</b>"
   ]
  },
  {
   "cell_type": "code",
   "execution_count": 35,
   "metadata": {},
   "outputs": [
    {
     "name": "stdout",
     "output_type": "stream",
     "text": [
      "10\n",
      "20\n",
      "30\n",
      "40\n",
      "Exit before 80 because score is greater than 40\n"
     ]
    }
   ],
   "source": [
    "score = 0\n",
    "while score<80:\n",
    "    score = score + 10\n",
    "    if score>40:\n",
    "        break\n",
    "    print(score)\n",
    "print('Exit before 80 because score is greater than 40')"
   ]
  },
  {
   "cell_type": "markdown",
   "metadata": {},
   "source": [
    "#### Example\n",
    "* Using <b>continue</b>"
   ]
  },
  {
   "cell_type": "code",
   "execution_count": 44,
   "metadata": {},
   "outputs": [
    {
     "name": "stdout",
     "output_type": "stream",
     "text": [
      "3\n",
      "No remainder for score 6\n",
      "9\n",
      "No remainder for score 12\n",
      "15\n",
      "No remainder for score 18\n",
      "21\n",
      "No remainder for score 24\n",
      "27\n",
      "No remainder for score 30\n"
     ]
    }
   ],
   "source": [
    "score = 0\n",
    "while score<30:\n",
    "    score = score + 3\n",
    "    if score%2 != 0:\n",
    "        print(score)    \n",
    "        continue\n",
    "    print(\"{} for score {}\".format(\"No remainder\", score)) #this line will not execute if there is a remainder in score\n",
    "print('Loop ended')"
   ]
  },
  {
   "cell_type": "code",
   "execution_count": null,
   "metadata": {},
   "outputs": [],
   "source": []
  }
 ],
 "metadata": {
  "kernelspec": {
   "display_name": "Python 3",
   "language": "python",
   "name": "python3"
  },
  "language_info": {
   "codemirror_mode": {
    "name": "ipython",
    "version": 3
   },
   "file_extension": ".py",
   "mimetype": "text/x-python",
   "name": "python",
   "nbconvert_exporter": "python",
   "pygments_lexer": "ipython3",
   "version": "3.6.4"
  }
 },
 "nbformat": 4,
 "nbformat_minor": 2
}
